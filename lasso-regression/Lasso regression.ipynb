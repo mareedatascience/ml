{
 "cells": [
  {
   "cell_type": "code",
   "execution_count": null,
   "metadata": {
    "collapsed": true
   },
   "outputs": [],
   "source": [
    "import pandas as pd\n",
    "import numpy as np\n",
    "import matplotlib.pylab as plt\n",
    "from sklearn.cross_validation import train_test_split\n",
    "from sklearn.linear_model import LassoLarsCV\n",
    "\n",
    "data = pd.read_csv(\"../data/tree_addhealth.csv\")\n",
    "data.columns = map(str.upper, data.columns)\n",
    "data = data.dropna()\n",
    "data['MALE'] = data['BIO_SEX'].map({1:1, 2:0})\n",
    "\n",
    "predictor_cols = ['MALE','HISPANIC','WHITE','BLACK','NAMERICAN',\n",
    "                   'ASIAN','AGE','ALCEVR1','ALCOPROBS1',\n",
    "                  'MAREVER1','COCEVER1','INHEVER1','CIGAVAIL',\n",
    "                  'DEP1','ESTEEM1','VIOL1','PASSIST','DEVIANT1',\n",
    "                  'GPA1','EXPEL1','FAMCONCT','PARACTV','PARPRES']\n",
    "predictor_variables = data[predictor_cols]\n",
    "\n",
    "target = data.SCHCONN1\n",
    "\n",
    "from sklearn import preprocessing\n",
    "predictors = predictor_variables.copy()\n",
    "for col in predictor_cols:\n",
    "    precitors[col]=preprocessing.scale(predictors[col].astype('float64'))"
   ]
  }
 ],
 "metadata": {
  "kernelspec": {
   "display_name": "Python 2",
   "language": "python",
   "name": "python2"
  },
  "language_info": {
   "codemirror_mode": {
    "name": "ipython",
    "version": 2
   },
   "file_extension": ".py",
   "mimetype": "text/x-python",
   "name": "python",
   "nbconvert_exporter": "python",
   "pygments_lexer": "ipython2",
   "version": "2.7.11"
  }
 },
 "nbformat": 4,
 "nbformat_minor": 0
}
