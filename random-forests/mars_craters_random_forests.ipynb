{
 "cells": [
  {
   "cell_type": "code",
   "execution_count": 1,
   "metadata": {
    "collapsed": true
   },
   "outputs": [],
   "source": [
    "from pandas import Series, DataFrame\n",
    "import pandas as pd\n",
    "import numpy as np\n",
    "import os\n",
    "import matplotlib.pylab as plt\n",
    "from sklearn.cross_validation import train_test_split\n",
    "from sklearn.tree import DecisionTreeClassifier\n",
    "from sklearn.metrics import classification_report\n",
    "import sklearn.metrics\n",
    "# Feature importance\n",
    "from sklearn import datasets\n",
    "from sklearn.ensemble import ExtraTreesClassifier"
   ]
  },
  {
   "cell_type": "code",
   "execution_count": 2,
   "metadata": {
    "collapsed": false
   },
   "outputs": [
    {
     "data": {
      "text/plain": [
       "﻿CRATER_ID                 object\n",
       "CRATER_NAME                object\n",
       "LATITUDE_CIRCLE_IMAGE     float64\n",
       "LONGITUDE_CIRCLE_IMAGE    float64\n",
       "DIAM_CIRCLE_IMAGE         float64\n",
       "DEPTH_RIMFLOOR_TOPOG      float64\n",
       "MORPHOLOGY_EJECTA_1        object\n",
       "MORPHOLOGY_EJECTA_2        object\n",
       "MORPHOLOGY_EJECTA_3        object\n",
       "NUMBER_LAYERS               int64\n",
       "dtype: object"
      ]
     },
     "execution_count": 2,
     "metadata": {},
     "output_type": "execute_result"
    }
   ],
   "source": [
    "## Load the dataset\n",
    "data = pd.read_csv(\"../decision-trees/data/marscrater_pds.csv\")\n",
    "data = data.dropna()\n",
    "data.dtypes"
   ]
  },
  {
   "cell_type": "code",
   "execution_count": 3,
   "metadata": {
    "collapsed": false
   },
   "outputs": [
    {
     "data": {
      "text/html": [
       "<div>\n",
       "<table border=\"1\" class=\"dataframe\">\n",
       "  <thead>\n",
       "    <tr style=\"text-align: right;\">\n",
       "      <th></th>\n",
       "      <th>LATITUDE_CIRCLE_IMAGE</th>\n",
       "      <th>LONGITUDE_CIRCLE_IMAGE</th>\n",
       "      <th>DIAM_CIRCLE_IMAGE</th>\n",
       "      <th>DEPTH_RIMFLOOR_TOPOG</th>\n",
       "      <th>NUMBER_LAYERS</th>\n",
       "    </tr>\n",
       "  </thead>\n",
       "  <tbody>\n",
       "    <tr>\n",
       "      <th>count</th>\n",
       "      <td>384343.000000</td>\n",
       "      <td>384343.000000</td>\n",
       "      <td>384343.000000</td>\n",
       "      <td>384343.000000</td>\n",
       "      <td>384343.000000</td>\n",
       "    </tr>\n",
       "    <tr>\n",
       "      <th>mean</th>\n",
       "      <td>-7.199209</td>\n",
       "      <td>10.128021</td>\n",
       "      <td>3.556686</td>\n",
       "      <td>0.075838</td>\n",
       "      <td>0.064835</td>\n",
       "    </tr>\n",
       "    <tr>\n",
       "      <th>std</th>\n",
       "      <td>33.608966</td>\n",
       "      <td>96.641592</td>\n",
       "      <td>8.591993</td>\n",
       "      <td>0.221518</td>\n",
       "      <td>0.304889</td>\n",
       "    </tr>\n",
       "    <tr>\n",
       "      <th>min</th>\n",
       "      <td>-86.700000</td>\n",
       "      <td>-179.997000</td>\n",
       "      <td>1.000000</td>\n",
       "      <td>-0.420000</td>\n",
       "      <td>0.000000</td>\n",
       "    </tr>\n",
       "    <tr>\n",
       "      <th>25%</th>\n",
       "      <td>-30.935000</td>\n",
       "      <td>-58.829000</td>\n",
       "      <td>1.180000</td>\n",
       "      <td>0.000000</td>\n",
       "      <td>0.000000</td>\n",
       "    </tr>\n",
       "    <tr>\n",
       "      <th>50%</th>\n",
       "      <td>-10.079000</td>\n",
       "      <td>12.740000</td>\n",
       "      <td>1.530000</td>\n",
       "      <td>0.000000</td>\n",
       "      <td>0.000000</td>\n",
       "    </tr>\n",
       "    <tr>\n",
       "      <th>75%</th>\n",
       "      <td>17.222500</td>\n",
       "      <td>89.275500</td>\n",
       "      <td>2.550000</td>\n",
       "      <td>0.000000</td>\n",
       "      <td>0.000000</td>\n",
       "    </tr>\n",
       "    <tr>\n",
       "      <th>max</th>\n",
       "      <td>85.702000</td>\n",
       "      <td>179.997000</td>\n",
       "      <td>1164.220000</td>\n",
       "      <td>4.950000</td>\n",
       "      <td>5.000000</td>\n",
       "    </tr>\n",
       "  </tbody>\n",
       "</table>\n",
       "</div>"
      ],
      "text/plain": [
       "       LATITUDE_CIRCLE_IMAGE  LONGITUDE_CIRCLE_IMAGE  DIAM_CIRCLE_IMAGE  \\\n",
       "count          384343.000000           384343.000000      384343.000000   \n",
       "mean               -7.199209               10.128021           3.556686   \n",
       "std                33.608966               96.641592           8.591993   \n",
       "min               -86.700000             -179.997000           1.000000   \n",
       "25%               -30.935000              -58.829000           1.180000   \n",
       "50%               -10.079000               12.740000           1.530000   \n",
       "75%                17.222500               89.275500           2.550000   \n",
       "max                85.702000              179.997000        1164.220000   \n",
       "\n",
       "       DEPTH_RIMFLOOR_TOPOG  NUMBER_LAYERS  \n",
       "count         384343.000000  384343.000000  \n",
       "mean               0.075838       0.064835  \n",
       "std                0.221518       0.304889  \n",
       "min               -0.420000       0.000000  \n",
       "25%                0.000000       0.000000  \n",
       "50%                0.000000       0.000000  \n",
       "75%                0.000000       0.000000  \n",
       "max                4.950000       5.000000  "
      ]
     },
     "execution_count": 3,
     "metadata": {},
     "output_type": "execute_result"
    }
   ],
   "source": [
    "data.describe()"
   ]
  },
  {
   "cell_type": "code",
   "execution_count": 4,
   "metadata": {
    "collapsed": false
   },
   "outputs": [
    {
     "data": {
      "text/plain": [
       "79855"
      ]
     },
     "execution_count": 4,
     "metadata": {},
     "output_type": "execute_result"
    }
   ],
   "source": [
    "## our target is going to be whether or not the crater is large\n",
    "## we're defining large diameter craters as greater than 3 km\n",
    "data['LARGE_DIAM'] = data.DIAM_CIRCLE_IMAGE >= 3.0\n",
    "sum(data.LARGE_DIAM == True)"
   ]
  },
  {
   "cell_type": "code",
   "execution_count": 7,
   "metadata": {
    "collapsed": false
   },
   "outputs": [
    {
     "name": "stdout",
     "output_type": "stream",
     "text": [
      "(230605, 4)\n",
      "(153738, 4)\n",
      "(230605L,)\n",
      "(153738L,)\n"
     ]
    }
   ],
   "source": [
    "#Split into training and testing sets\n",
    "\n",
    "predictor_names = ['LATITUDE_CIRCLE_IMAGE', 'LONGITUDE_CIRCLE_IMAGE', 'DEPTH_RIMFLOOR_TOPOG', 'NUMBER_LAYERS']\n",
    "predictors = data[predictor_names]\n",
    "\n",
    "target_names = ['LARGE_DIAM']\n",
    "targets = data.LARGE_DIAM\n",
    "\n",
    "X_train, X_test, y_train, y_test  =   train_test_split(predictors, targets, test_size=.4)\n",
    "\n",
    "print X_train.shape\n",
    "print X_test.shape\n",
    "print y_train.shape\n",
    "print y_test.shape"
   ]
  },
  {
   "cell_type": "code",
   "execution_count": 8,
   "metadata": {
    "collapsed": false
   },
   "outputs": [
    {
     "data": {
      "text/plain": [
       "array([[120212,   1640],\n",
       "       [  6110,  25776]])"
      ]
     },
     "execution_count": 8,
     "metadata": {},
     "output_type": "execute_result"
    }
   ],
   "source": [
    "## Build model on training data\n",
    "from sklearn.ensemble import RandomForestClassifier\n",
    "classifier = RandomForestClassifier(n_estimators=25)\n",
    "classifier=classifier.fit(X_train, y_train)\n",
    "predictions=classifier.predict(X_test)\n",
    "sklearn.metrics.confusion_matrix(y_test, predictions)"
   ]
  },
  {
   "cell_type": "code",
   "execution_count": 9,
   "metadata": {
    "collapsed": false
   },
   "outputs": [
    {
     "data": {
      "text/plain": [
       "0.94958956146170759"
      ]
     },
     "execution_count": 9,
     "metadata": {},
     "output_type": "execute_result"
    }
   ],
   "source": [
    "sklearn.metrics.accuracy_score(y_test, predictions)"
   ]
  },
  {
   "cell_type": "code",
   "execution_count": 12,
   "metadata": {
    "collapsed": false
   },
   "outputs": [
    {
     "name": "stdout",
     "output_type": "stream",
     "text": [
      "['LATITUDE_CIRCLE_IMAGE', 'LONGITUDE_CIRCLE_IMAGE', 'DEPTH_RIMFLOOR_TOPOG', 'NUMBER_LAYERS']\n",
      "[ 0.14123965  0.14261511  0.58021553  0.13592971]\n"
     ]
    }
   ],
   "source": [
    "## Fit an extra trees model to the data\n",
    "model = ExtraTreesClassifier()\n",
    "model.fit(X_train, y_train)\n",
    "\n",
    "## display the relative importance of each attribute\n",
    "print predictor_names\n",
    "print(model.feature_importances_)"
   ]
  },
  {
   "cell_type": "code",
   "execution_count": 13,
   "metadata": {
    "collapsed": false
   },
   "outputs": [
    {
     "data": {
      "text/plain": [
       "[<matplotlib.lines.Line2D at 0x22ed0f98>]"
      ]
     },
     "execution_count": 13,
     "metadata": {},
     "output_type": "execute_result"
    },
    {
     "data": {
      "image/png": "[encoded data removed]",
      "text/plain": [
       "<matplotlib.figure.Figure at 0x22ed0f60>"
      ]
     },
     "metadata": {},
     "output_type": "display_data"
    }
   ],
   "source": [
    "\"\"\"\n",
    "Running a different number of trees to see the effect of that\n",
    "on the accuracy of prediction\n",
    "\"\"\"\n",
    "trees=range(25)\n",
    "accuracy=np.zeros(25)\n",
    "\n",
    "for idx in range(len(trees)):\n",
    "    classifier=RandomForestClassifier(n_estimators=idx+1)\n",
    "    classifier=classifier.fit(X_train, y_train)\n",
    "    predictions=classifier.predict(X_test)\n",
    "    accuracy[idx]=sklearn.metrics.accuracy_score(y_test, predictions)\n",
    "\n",
    "%matplotlib inline\n",
    "plt.cla()\n",
    "\n",
    "plt.plot(trees, accuracy)"
   ]
  },
  {
   "cell_type": "code",
   "execution_count": null,
   "metadata": {
    "collapsed": true
   },
   "outputs": [],
   "source": []
  }
 ],
 "metadata": {
  "kernelspec": {
   "display_name": "Python 2",
   "language": "python",
   "name": "python2"
  },
  "language_info": {
   "codemirror_mode": {
    "name": "ipython",
    "version": 2
   },
   "file_extension": ".py",
   "mimetype": "text/x-python",
   "name": "python",
   "nbconvert_exporter": "python",
   "pygments_lexer": "ipython2",
   "version": "2.7.11"
  }
 },
 "nbformat": 4,
 "nbformat_minor": 0
}
